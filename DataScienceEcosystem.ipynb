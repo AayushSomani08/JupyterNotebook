{
 "cells": [
  {
   "cell_type": "markdown",
   "id": "d44050cd-e70c-47c6-b585-712321f466e1",
   "metadata": {},
   "source": [
    "# Data Science tools and Ecosystem"
   ]
  },
  {
   "cell_type": "markdown",
   "id": "1375d4fe-3202-4c6c-8920-9be3c83ca2e0",
   "metadata": {
    "tags": []
   },
   "source": [
    "## In this notebook data science tools and ecosystem are summarized\n"
   ]
  },
  {
   "cell_type": "markdown",
   "id": "4efe237b-bd74-450c-89fa-048bc3b400d0",
   "metadata": {},
   "source": [
    "## Objectives:\n",
    "- List Popular Data Science Languages\n",
    "- List Popular tools\n",
    "- list commonly used libraries"
   ]
  },
  {
   "cell_type": "markdown",
   "id": "405caa63-d689-450f-a0e5-292ed7805bff",
   "metadata": {},
   "source": [
    "### Some of the popular data science languages that data scientists use are:\n"
   ]
  },
  {
   "cell_type": "markdown",
   "id": "7709162d-0a43-4842-a5f1-a870b6fab46f",
   "metadata": {},
   "source": [
    "1. Python"
   ]
  },
  {
   "cell_type": "markdown",
   "id": "0a2cb74b-be48-4d0d-8f94-8734dbdd4ed7",
   "metadata": {},
   "source": [
    "2. R\n"
   ]
  },
  {
   "cell_type": "markdown",
   "id": "155e939c-1abd-4b41-a324-2a7f40a0e883",
   "metadata": {},
   "source": [
    "3. Java"
   ]
  },
  {
   "cell_type": "markdown",
   "id": "fe14df5c-bb79-43b1-a04d-34b65b4b6d74",
   "metadata": {},
   "source": [
    "### Some of the commonly used libraries are: \n",
    "1. scikit-learn\n",
    "2. pandas\n",
    "3. numpy\n",
    "4. tensorflow\n",
    "5. ggplot"
   ]
  },
  {
   "cell_type": "markdown",
   "id": "ca33c1d7-ef8a-4789-bd28-d3fd139d3c4b",
   "metadata": {},
   "source": [
    "|Data Science Tools|\n",
    "|---|\n",
    "|R Studio|\n",
    "|Apache Spark|\n",
    "|Hadoop|"
   ]
  },
  {
   "cell_type": "markdown",
   "id": "f5698999-5f90-4607-b2d3-6ab3e03d31c7",
   "metadata": {},
   "source": [
    "### Below are a few examples of arithematic expressions in python\n"
   ]
  },
  {
   "cell_type": "code",
   "execution_count": 1,
   "id": "e85108ca-5f17-4627-a35b-4cd609a56bec",
   "metadata": {
    "tags": []
   },
   "outputs": [
    {
     "data": {
      "text/plain": [
       "70"
      ]
     },
     "execution_count": 1,
     "metadata": {},
     "output_type": "execute_result"
    }
   ],
   "source": [
    "30+40"
   ]
  },
  {
   "cell_type": "code",
   "execution_count": 2,
   "id": "1cc61eea-fdfb-4640-8614-0c585da30029",
   "metadata": {
    "tags": []
   },
   "outputs": [
    {
     "data": {
      "text/plain": [
       "60"
      ]
     },
     "execution_count": 2,
     "metadata": {},
     "output_type": "execute_result"
    }
   ],
   "source": [
    "69-9"
   ]
  },
  {
   "cell_type": "code",
   "execution_count": 3,
   "id": "7174cd31-5ce4-4980-b63a-7f7ab83a032c",
   "metadata": {
    "tags": []
   },
   "outputs": [],
   "source": [
    "# This is an exxpression to multiply and add numbers"
   ]
  },
  {
   "cell_type": "code",
   "execution_count": 4,
   "id": "bb3bc103-9185-4ffc-9f5c-fccc5276f1cb",
   "metadata": {
    "tags": []
   },
   "outputs": [
    {
     "data": {
      "text/plain": [
       "17"
      ]
     },
     "execution_count": 4,
     "metadata": {},
     "output_type": "execute_result"
    }
   ],
   "source": [
    "(3*4)+5"
   ]
  },
  {
   "cell_type": "code",
   "execution_count": 5,
   "id": "2ee1804f-fdb7-4e47-b9c9-1587dba8b304",
   "metadata": {
    "tags": []
   },
   "outputs": [],
   "source": [
    "# This will convert minutes into hours"
   ]
  },
  {
   "cell_type": "code",
   "execution_count": 6,
   "id": "f8b6c3f0-0442-4aee-add7-a38dfd453996",
   "metadata": {
    "tags": []
   },
   "outputs": [
    {
     "data": {
      "text/plain": [
       "3.3333333333333335"
      ]
     },
     "execution_count": 6,
     "metadata": {},
     "output_type": "execute_result"
    }
   ],
   "source": [
    "200/60"
   ]
  },
  {
   "cell_type": "markdown",
   "id": "2ea8c80f-e10b-4c2d-ae51-b4a111d6ef07",
   "metadata": {},
   "source": [
    "## Author"
   ]
  },
  {
   "cell_type": "markdown",
   "id": "4e6cf7e0-b06e-448c-ac4b-411322c3ba4f",
   "metadata": {},
   "source": [
    "Aayush Somani"
   ]
  }
 ],
 "metadata": {
  "kernelspec": {
   "display_name": "Python",
   "language": "python",
   "name": "conda-env-python-py"
  },
  "language_info": {
   "codemirror_mode": {
    "name": "ipython",
    "version": 3
   },
   "file_extension": ".py",
   "mimetype": "text/x-python",
   "name": "python",
   "nbconvert_exporter": "python",
   "pygments_lexer": "ipython3",
   "version": "3.7.12"
  }
 },
 "nbformat": 4,
 "nbformat_minor": 5
}
